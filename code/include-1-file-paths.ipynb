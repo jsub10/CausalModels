{
 "cells": [
  {
   "cell_type": "markdown",
   "id": "e4692dc3-1393-4ed2-b2af-7ce1f278fbc5",
   "metadata": {},
   "source": [
    "# include-1-file-paths\n",
    "\n",
    "Standard first include in every project. Sets up the basic packages for navigating the file system and notebook defaults."
   ]
  },
  {
   "cell_type": "code",
   "execution_count": null,
   "id": "e81431db-d985-4756-9bfe-81ebd5e4f4c0",
   "metadata": {},
   "outputs": [
    {
     "ename": "",
     "evalue": "",
     "output_type": "error",
     "traceback": [
      "\u001b[1;31mFailed to start the Kernel. \n",
      "\u001b[1;31mKernel Python 3.9.6 is not usable. Check the Jupyter output tab for more information. \n",
      "\u001b[1;31mView Jupyter <a href='command:jupyter.viewOutput'>log</a> for further details."
     ]
    }
   ],
   "source": [
    "# File system navigation\n",
    "import os\n",
    "import glob\n",
    "import ntpath"
   ]
  },
  {
   "cell_type": "code",
   "execution_count": null,
   "id": "e4ed5c1d-e747-47de-85c8-f28cdc6f0cfd",
   "metadata": {},
   "outputs": [],
   "source": [
    "# Path to the shared functions directory for functions \n",
    "## shared between all projects\n",
    "shared_dir_path = os.path.join('..', '..', 'SharedFunctions')\n",
    "shared_dir_path"
   ]
  },
  {
   "cell_type": "code",
   "execution_count": null,
   "id": "7d2e0401-7749-4279-8946-958541432abe",
   "metadata": {},
   "outputs": [],
   "source": [
    "# Path to the data directory\n",
    "data_dir_path = os.path.join('..', 'data')\n",
    "data_dir_path"
   ]
  },
  {
   "cell_type": "code",
   "execution_count": null,
   "id": "587815c1-fdac-4590-ac0a-0bae830fd810",
   "metadata": {},
   "outputs": [],
   "source": [
    "# Path to the pickled directory\n",
    "pickled_dir_path = os.path.join('..', 'pickled')\n",
    "pickled_dir_path"
   ]
  },
  {
   "cell_type": "code",
   "execution_count": null,
   "id": "eae8dbe1-a9f5-4d4e-bdb2-40c8d49a168d",
   "metadata": {},
   "outputs": [],
   "source": [
    "# Path to the docs directory\n",
    "## Used for documentation, presentations, images, etc.\n",
    "docs_dir_path = os.path.join('..', 'docs')\n",
    "docs_dir_path"
   ]
  },
  {
   "cell_type": "code",
   "execution_count": null,
   "id": "50e06d4b-987c-45a9-b8e7-5423c1452c64",
   "metadata": {},
   "outputs": [],
   "source": [
    "# Variables exposed by this include file\n",
    "vars_exposed = {'shared_dir_path': shared_dir_path,\n",
    "                'data_dir_path': data_dir_path,\n",
    "                'pickled_dir_path': pickled_dir_path, \n",
    "                'docs_dir_path': docs_dir_path\n",
    "                }"
   ]
  }
 ],
 "metadata": {
  "kernelspec": {
   "display_name": "Python 3",
   "language": "python",
   "name": "python3"
  },
  "language_info": {
   "codemirror_mode": {
    "name": "ipython",
    "version": 3
   },
   "file_extension": ".py",
   "mimetype": "text/x-python",
   "name": "python",
   "nbconvert_exporter": "python",
   "pygments_lexer": "ipython3",
   "version": "3.9.6 (default, Oct 18 2022, 12:41:40) \n[Clang 14.0.0 (clang-1400.0.29.202)]"
  },
  "vscode": {
   "interpreter": {
    "hash": "31f2aee4e71d21fbe5cf8b01ff0e069b9275f58929596ceb00d14d90e3e16cd6"
   }
  }
 },
 "nbformat": 4,
 "nbformat_minor": 5
}
