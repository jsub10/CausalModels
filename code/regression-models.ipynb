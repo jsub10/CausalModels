{
 "cells": [
  {
   "cell_type": "markdown",
   "id": "52d4c8f5-cf5c-4923-a0b3-60286a7fea59",
   "metadata": {},
   "source": [
    "# regression-models\n",
    "\n",
    "Regresssion models from Chapter 13 of _The Effect_ by Nick Huntington-Klein."
   ]
  },
  {
   "cell_type": "markdown",
   "id": "66ff108a-ab59-47e4-a428-12bed51b2dda",
   "metadata": {},
   "source": [
    "## Config"
   ]
  },
  {
   "cell_type": "code",
   "execution_count": 2,
   "id": "164730bd-d8e7-4bb7-a751-69b74efe66e2",
   "metadata": {},
   "outputs": [
    {
     "name": "stdout",
     "output_type": "stream",
     "text": [
      "['Solarize_Light2', '_classic_test_patch', '_mpl-gallery', '_mpl-gallery-nogrid', 'bmh', 'classic', 'dark_background', 'fast', 'fivethirtyeight', 'ggplot', 'grayscale', 'seaborn', 'seaborn-bright', 'seaborn-colorblind', 'seaborn-dark', 'seaborn-dark-palette', 'seaborn-darkgrid', 'seaborn-deep', 'seaborn-muted', 'seaborn-notebook', 'seaborn-paper', 'seaborn-pastel', 'seaborn-poster', 'seaborn-talk', 'seaborn-ticks', 'seaborn-white', 'seaborn-whitegrid', 'tableau-colorblind10']\n"
     ]
    }
   ],
   "source": [
    "%run include-2-shared-functions.ipynb"
   ]
  },
  {
   "cell_type": "markdown",
   "id": "3e27d233-5b6f-453e-9a09-5893cd5ad094",
   "metadata": {},
   "source": [
    "## Simple Regression Models"
   ]
  },
  {
   "cell_type": "code",
   "execution_count": 3,
   "id": "9a7796ad-e02b-428f-928a-b920a787f0d5",
   "metadata": {},
   "outputs": [
    {
     "data": {
      "text/html": [
       "<div>\n",
       "<style scoped>\n",
       "    .dataframe tbody tr th:only-of-type {\n",
       "        vertical-align: middle;\n",
       "    }\n",
       "\n",
       "    .dataframe tbody tr th {\n",
       "        vertical-align: top;\n",
       "    }\n",
       "\n",
       "    .dataframe thead th {\n",
       "        text-align: right;\n",
       "    }\n",
       "</style>\n",
       "<table border=\"1\" class=\"dataframe\">\n",
       "  <thead>\n",
       "    <tr style=\"text-align: right;\">\n",
       "      <th></th>\n",
       "      <th>business_name</th>\n",
       "      <th>inspection_score</th>\n",
       "      <th>Year</th>\n",
       "      <th>NumberofLocations</th>\n",
       "      <th>Weekend</th>\n",
       "    </tr>\n",
       "  </thead>\n",
       "  <tbody>\n",
       "    <tr>\n",
       "      <th>0</th>\n",
       "      <td>MCGINLEYS PUB</td>\n",
       "      <td>94</td>\n",
       "      <td>2017</td>\n",
       "      <td>9</td>\n",
       "      <td>False</td>\n",
       "    </tr>\n",
       "    <tr>\n",
       "      <th>1</th>\n",
       "      <td>VILLAGE INN #1</td>\n",
       "      <td>86</td>\n",
       "      <td>2015</td>\n",
       "      <td>66</td>\n",
       "      <td>False</td>\n",
       "    </tr>\n",
       "    <tr>\n",
       "      <th>2</th>\n",
       "      <td>RONNIE SUSHI 2</td>\n",
       "      <td>80</td>\n",
       "      <td>2016</td>\n",
       "      <td>79</td>\n",
       "      <td>False</td>\n",
       "    </tr>\n",
       "    <tr>\n",
       "      <th>3</th>\n",
       "      <td>FRED MEYER - RETAIL FISH</td>\n",
       "      <td>96</td>\n",
       "      <td>2003</td>\n",
       "      <td>86</td>\n",
       "      <td>False</td>\n",
       "    </tr>\n",
       "    <tr>\n",
       "      <th>4</th>\n",
       "      <td>PHO GRILL</td>\n",
       "      <td>83</td>\n",
       "      <td>2017</td>\n",
       "      <td>53</td>\n",
       "      <td>False</td>\n",
       "    </tr>\n",
       "  </tbody>\n",
       "</table>\n",
       "</div>"
      ],
      "text/plain": [
       "              business_name  inspection_score  Year  NumberofLocations  \\\n",
       "0             MCGINLEYS PUB                94  2017                  9   \n",
       "1            VILLAGE INN #1                86  2015                 66   \n",
       "2            RONNIE SUSHI 2                80  2016                 79   \n",
       "3  FRED MEYER - RETAIL FISH                96  2003                 86   \n",
       "4                 PHO GRILL                83  2017                 53   \n",
       "\n",
       "   Weekend  \n",
       "0    False  \n",
       "1    False  \n",
       "2    False  \n",
       "3    False  \n",
       "4    False  "
      ]
     },
     "execution_count": 3,
     "metadata": {},
     "output_type": "execute_result"
    }
   ],
   "source": [
    "# Load the restaurant inspection dataset from causaldata\n",
    "df_res = cdata.restaurant_inspections.load_pandas().data\n",
    "df_res.head()"
   ]
  },
  {
   "cell_type": "code",
   "execution_count": 4,
   "id": "3552d450-63b0-4f22-8981-ffedcb052b46",
   "metadata": {},
   "outputs": [],
   "source": [
    "# Model 1\n",
    "## Use NumberofLocations as the independent variable and inspection_score as the dependent variable\n",
    "m1 = sm.ols(formula='inspection_score ~ NumberofLocations', data=df_res).fit()"
   ]
  },
  {
   "cell_type": "code",
   "execution_count": 5,
   "id": "afee738b-70e1-4d12-b017-5bfbb603d577",
   "metadata": {},
   "outputs": [
    {
     "data": {
      "text/html": [
       "<table style=\"text-align:center\"><tr><td colspan=\"2\" style=\"border-bottom: 1px solid black\"></td></tr><tr><td style=\"text-align:left\"></td><td colspan=\"1\"><em>Dependent variable:inspection_score</em></td></tr><tr><td style=\"text-align:left\"></td><tr><td style=\"text-align:left\"></td><td>(1)</td></tr><tr><td colspan=\"2\" style=\"border-bottom: 1px solid black\"></td></tr><tr><td style=\"text-align:left\">Intercept</td><td>94.866<sup>***</sup></td></tr><tr><td style=\"text-align:left\"></td><td>(0.046)</td></tr><tr><td style=\"text-align:left\">NumberofLocations</td><td>-0.019<sup>***</sup></td></tr><tr><td style=\"text-align:left\"></td><td>(0.000)</td></tr><td colspan=\"2\" style=\"border-bottom: 1px solid black\"></td></tr><tr><td style=\"text-align: left\">Observations</td><td>27,178</td></tr><tr><td style=\"text-align: left\">R<sup>2</sup></td><td>0.065</td></tr><tr><td style=\"text-align: left\">Adjusted R<sup>2</sup></td><td>0.065</td></tr><tr><td style=\"text-align: left\">Residual Std. Error</td><td>6.052 (df=27176)</td></tr><tr><td style=\"text-align: left\">F Statistic</td><td>1876.705<sup>***</sup> (df=1; 27176)</td></tr><tr><td colspan=\"2\" style=\"border-bottom: 1px solid black\"></td></tr><tr><td style=\"text-align: left\">Note:</td>\n",
       " <td colspan=\"1\" style=\"text-align: right\">\n",
       "  <sup>*</sup>p&lt;0.1;\n",
       "  <sup>**</sup>p&lt;0.05;\n",
       "  <sup>***</sup>p&lt;0.01\n",
       " </td></tr></table>"
      ],
      "text/plain": [
       "<stargazer.stargazer.Stargazer at 0x7fd8e8019d00>"
      ]
     },
     "execution_count": 5,
     "metadata": {},
     "output_type": "execute_result"
    }
   ],
   "source": [
    "Stargazer([m1])"
   ]
  },
  {
   "cell_type": "code",
   "execution_count": 6,
   "id": "a43b8a54-2ae6-4ade-8d9e-7916b34a1175",
   "metadata": {},
   "outputs": [],
   "source": [
    "# Model 2\n",
    "## Use NumberofLocations and Year as independent variables and inspection_score as the dependent variable\n",
    "m2 = sm.ols(formula='inspection_score ~ NumberofLocations + Year', data=df_res).fit()"
   ]
  },
  {
   "cell_type": "code",
   "execution_count": 7,
   "id": "4eb038b4-9447-4430-bccf-0740914e1f49",
   "metadata": {},
   "outputs": [
    {
     "data": {
      "text/html": [
       "<table style=\"text-align:center\"><tr><td colspan=\"2\" style=\"border-bottom: 1px solid black\"></td></tr><tr><td style=\"text-align:left\"></td><td colspan=\"1\"><em>Dependent variable:inspection_score</em></td></tr><tr><td style=\"text-align:left\"></td><tr><td style=\"text-align:left\"></td><td>(1)</td></tr><tr><td colspan=\"2\" style=\"border-bottom: 1px solid black\"></td></tr><tr><td style=\"text-align:left\">Intercept</td><td>225.333<sup>***</sup></td></tr><tr><td style=\"text-align:left\"></td><td>(12.411)</td></tr><tr><td style=\"text-align:left\">NumberofLocations</td><td>-0.019<sup>***</sup></td></tr><tr><td style=\"text-align:left\"></td><td>(0.000)</td></tr><tr><td style=\"text-align:left\">Year</td><td>-0.065<sup>***</sup></td></tr><tr><td style=\"text-align:left\"></td><td>(0.006)</td></tr><td colspan=\"2\" style=\"border-bottom: 1px solid black\"></td></tr><tr><td style=\"text-align: left\">Observations</td><td>27,178</td></tr><tr><td style=\"text-align: left\">R<sup>2</sup></td><td>0.068</td></tr><tr><td style=\"text-align: left\">Adjusted R<sup>2</sup></td><td>0.068</td></tr><tr><td style=\"text-align: left\">Residual Std. Error</td><td>6.039 (df=27175)</td></tr><tr><td style=\"text-align: left\">F Statistic</td><td>997.386<sup>***</sup> (df=2; 27175)</td></tr><tr><td colspan=\"2\" style=\"border-bottom: 1px solid black\"></td></tr><tr><td style=\"text-align: left\">Note:</td>\n",
       " <td colspan=\"1\" style=\"text-align: right\">\n",
       "  <sup>*</sup>p&lt;0.1;\n",
       "  <sup>**</sup>p&lt;0.05;\n",
       "  <sup>***</sup>p&lt;0.01\n",
       " </td></tr></table>"
      ],
      "text/plain": [
       "<stargazer.stargazer.Stargazer at 0x7fd908041880>"
      ]
     },
     "execution_count": 7,
     "metadata": {},
     "output_type": "execute_result"
    }
   ],
   "source": [
    "Stargazer([m2])"
   ]
  },
  {
   "cell_type": "code",
   "execution_count": 8,
   "id": "474d89d3-7b3f-4b0e-a0d0-2dbcf8e61407",
   "metadata": {},
   "outputs": [
    {
     "data": {
      "text/plain": [
       "False    26968\n",
       "True       210\n",
       "Name: Weekend, dtype: int64"
      ]
     },
     "execution_count": 8,
     "metadata": {},
     "output_type": "execute_result"
    }
   ],
   "source": [
    "df_res['Weekend'].value_counts()"
   ]
  },
  {
   "cell_type": "code",
   "execution_count": 9,
   "id": "348c5619-39cf-4055-9873-f8f52ffdcaa3",
   "metadata": {},
   "outputs": [],
   "source": [
    "# Model 3\n",
    "## Use NumberofLocations, Year, and Weekend as independent variables and inspection_score as the dependent variable\n",
    "m3 = sm.ols(formula='inspection_score ~ NumberofLocations + Year + Weekend', data=df_res).fit()"
   ]
  },
  {
   "cell_type": "code",
   "execution_count": 10,
   "id": "a7c20135-db94-40dd-ab7f-1f1e899debff",
   "metadata": {},
   "outputs": [
    {
     "data": {
      "text/html": [
       "<table style=\"text-align:center\"><tr><td colspan=\"2\" style=\"border-bottom: 1px solid black\"></td></tr><tr><td style=\"text-align:left\"></td><td colspan=\"1\"><em>Dependent variable:inspection_score</em></td></tr><tr><td style=\"text-align:left\"></td><tr><td style=\"text-align:left\"></td><td>(1)</td></tr><tr><td colspan=\"2\" style=\"border-bottom: 1px solid black\"></td></tr><tr><td style=\"text-align:left\">Intercept</td><td>224.680<sup>***</sup></td></tr><tr><td style=\"text-align:left\"></td><td>(12.410)</td></tr><tr><td style=\"text-align:left\">NumberofLocations</td><td>-0.019<sup>***</sup></td></tr><tr><td style=\"text-align:left\"></td><td>(0.000)</td></tr><tr><td style=\"text-align:left\">Weekend[T.True]</td><td>1.432<sup>***</sup></td></tr><tr><td style=\"text-align:left\"></td><td>(0.419)</td></tr><tr><td style=\"text-align:left\">Year</td><td>-0.065<sup>***</sup></td></tr><tr><td style=\"text-align:left\"></td><td>(0.006)</td></tr><td colspan=\"2\" style=\"border-bottom: 1px solid black\"></td></tr><tr><td style=\"text-align: left\">Observations</td><td>27,178</td></tr><tr><td style=\"text-align: left\">R<sup>2</sup></td><td>0.069</td></tr><tr><td style=\"text-align: left\">Adjusted R<sup>2</sup></td><td>0.069</td></tr><tr><td style=\"text-align: left\">Residual Std. Error</td><td>6.038 (df=27174)</td></tr><tr><td style=\"text-align: left\">F Statistic</td><td>669.086<sup>***</sup> (df=3; 27174)</td></tr><tr><td colspan=\"2\" style=\"border-bottom: 1px solid black\"></td></tr><tr><td style=\"text-align: left\">Note:</td>\n",
       " <td colspan=\"1\" style=\"text-align: right\">\n",
       "  <sup>*</sup>p&lt;0.1;\n",
       "  <sup>**</sup>p&lt;0.05;\n",
       "  <sup>***</sup>p&lt;0.01\n",
       " </td></tr></table>"
      ],
      "text/plain": [
       "<stargazer.stargazer.Stargazer at 0x7fd9080505e0>"
      ]
     },
     "execution_count": 10,
     "metadata": {},
     "output_type": "execute_result"
    }
   ],
   "source": [
    "Stargazer([m3])"
   ]
  },
  {
   "cell_type": "code",
   "execution_count": 11,
   "id": "7184d96f-5069-4079-b666-3ca62d431e81",
   "metadata": {},
   "outputs": [
    {
     "data": {
      "text/html": [
       "<table style=\"text-align:center\"><tr><td colspan=\"4\" style=\"border-bottom: 1px solid black\"></td></tr><tr><td style=\"text-align:left\"></td><td colspan=\"3\"><em>Dependent variable:inspection_score</em></td></tr><tr><td style=\"text-align:left\"></td><tr><td style=\"text-align:left\"></td><td>(1)</td><td>(2)</td><td>(3)</td></tr><tr><td colspan=\"4\" style=\"border-bottom: 1px solid black\"></td></tr><tr><td style=\"text-align:left\">Intercept</td><td>94.866<sup>***</sup></td><td>225.333<sup>***</sup></td><td>224.680<sup>***</sup></td></tr><tr><td style=\"text-align:left\"></td><td>(0.046)</td><td>(12.411)</td><td>(12.410)</td></tr><tr><td style=\"text-align:left\">NumberofLocations</td><td>-0.019<sup>***</sup></td><td>-0.019<sup>***</sup></td><td>-0.019<sup>***</sup></td></tr><tr><td style=\"text-align:left\"></td><td>(0.000)</td><td>(0.000)</td><td>(0.000)</td></tr><tr><td style=\"text-align:left\">Weekend[T.True]</td><td></td><td></td><td>1.432<sup>***</sup></td></tr><tr><td style=\"text-align:left\"></td><td></td><td></td><td>(0.419)</td></tr><tr><td style=\"text-align:left\">Year</td><td></td><td>-0.065<sup>***</sup></td><td>-0.065<sup>***</sup></td></tr><tr><td style=\"text-align:left\"></td><td></td><td>(0.006)</td><td>(0.006)</td></tr><td colspan=\"4\" style=\"border-bottom: 1px solid black\"></td></tr><tr><td style=\"text-align: left\">Observations</td><td>27,178</td><td>27,178</td><td>27,178</td></tr><tr><td style=\"text-align: left\">R<sup>2</sup></td><td>0.065</td><td>0.068</td><td>0.069</td></tr><tr><td style=\"text-align: left\">Adjusted R<sup>2</sup></td><td>0.065</td><td>0.068</td><td>0.069</td></tr><tr><td style=\"text-align: left\">Residual Std. Error</td><td>6.052 (df=27176)</td><td>6.039 (df=27175)</td><td>6.038 (df=27174)</td></tr><tr><td style=\"text-align: left\">F Statistic</td><td>1876.705<sup>***</sup> (df=1; 27176)</td><td>997.386<sup>***</sup> (df=2; 27175)</td><td>669.086<sup>***</sup> (df=3; 27174)</td></tr><tr><td colspan=\"4\" style=\"border-bottom: 1px solid black\"></td></tr><tr><td style=\"text-align: left\">Note:</td>\n",
       " <td colspan=\"3\" style=\"text-align: right\">\n",
       "  <sup>*</sup>p&lt;0.1;\n",
       "  <sup>**</sup>p&lt;0.05;\n",
       "  <sup>***</sup>p&lt;0.01\n",
       " </td></tr></table>"
      ],
      "text/plain": [
       "<stargazer.stargazer.Stargazer at 0x7fd9391f8130>"
      ]
     },
     "execution_count": 11,
     "metadata": {},
     "output_type": "execute_result"
    }
   ],
   "source": [
    "# Show the results of all 3 models simultaneously\n",
    "Stargazer([m1,m2,m3])"
   ]
  },
  {
   "cell_type": "code",
   "execution_count": 12,
   "id": "7c9090ba-3b88-4b3d-9603-d7d05a4b9875",
   "metadata": {},
   "outputs": [],
   "source": [
    "# Create a non-linear version of m1\n",
    "## including the second power of NumberofLocations\n",
    "m1_nl = sm.ols(formula='inspection_score ~ NumberofLocations + np.power(NumberofLocations,2)', data=df_res).fit()"
   ]
  },
  {
   "cell_type": "code",
   "execution_count": 13,
   "id": "c3aa1520-efe4-4b73-afc2-a97b6e4aee22",
   "metadata": {},
   "outputs": [
    {
     "data": {
      "text/html": [
       "<table style=\"text-align:center\"><tr><td colspan=\"2\" style=\"border-bottom: 1px solid black\"></td></tr><tr><td style=\"text-align:left\"></td><td colspan=\"1\"><em>Dependent variable:inspection_score</em></td></tr><tr><td style=\"text-align:left\"></td><tr><td style=\"text-align:left\"></td><td>(1)</td></tr><tr><td colspan=\"2\" style=\"border-bottom: 1px solid black\"></td></tr><tr><td style=\"text-align:left\">Intercept</td><td>97.518<sup>***</sup></td></tr><tr><td style=\"text-align:left\"></td><td>(0.059)</td></tr><tr><td style=\"text-align:left\">NumberofLocations</td><td>-0.080<sup>***</sup></td></tr><tr><td style=\"text-align:left\"></td><td>(0.001)</td></tr><tr><td style=\"text-align:left\">np.power(NumberofLocations, 2)</td><td>0.000<sup>***</sup></td></tr><tr><td style=\"text-align:left\"></td><td>(0.000)</td></tr><td colspan=\"2\" style=\"border-bottom: 1px solid black\"></td></tr><tr><td style=\"text-align: left\">Observations</td><td>27,178</td></tr><tr><td style=\"text-align: left\">R<sup>2</sup></td><td>0.194</td></tr><tr><td style=\"text-align: left\">Adjusted R<sup>2</sup></td><td>0.194</td></tr><tr><td style=\"text-align: left\">Residual Std. Error</td><td>5.616 (df=27175)</td></tr><tr><td style=\"text-align: left\">F Statistic</td><td>3279.008<sup>***</sup> (df=2; 27175)</td></tr><tr><td colspan=\"2\" style=\"border-bottom: 1px solid black\"></td></tr><tr><td style=\"text-align: left\">Note:</td>\n",
       " <td colspan=\"1\" style=\"text-align: right\">\n",
       "  <sup>*</sup>p&lt;0.1;\n",
       "  <sup>**</sup>p&lt;0.05;\n",
       "  <sup>***</sup>p&lt;0.01\n",
       " </td></tr></table>"
      ],
      "text/plain": [
       "<stargazer.stargazer.Stargazer at 0x7fd9391fcfa0>"
      ]
     },
     "execution_count": 13,
     "metadata": {},
     "output_type": "execute_result"
    }
   ],
   "source": [
    "Stargazer([m1_nl])"
   ]
  },
  {
   "cell_type": "code",
   "execution_count": 14,
   "id": "aa8b1bfd-3f3e-4ee9-8079-d8fa9cb8a6e8",
   "metadata": {},
   "outputs": [],
   "source": [
    "# Create an interaction model \n",
    "m4 = sm.ols(formula='inspection_score ~ NumberofLocations + Weekend + Year + np.multiply(NumberofLocations, Year) + np.multiply(NumberofLocations, Weekend)', \n",
    "            data=df_res).fit()"
   ]
  },
  {
   "cell_type": "code",
   "execution_count": 15,
   "id": "5b967ebb-4ea9-43b2-8720-9173d70584f8",
   "metadata": {},
   "outputs": [
    {
     "data": {
      "text/html": [
       "<table style=\"text-align:center\"><tr><td colspan=\"2\" style=\"border-bottom: 1px solid black\"></td></tr><tr><td style=\"text-align:left\"></td><td colspan=\"1\"><em>Dependent variable:inspection_score</em></td></tr><tr><td style=\"text-align:left\"></td><tr><td style=\"text-align:left\"></td><td>(1)</td></tr><tr><td colspan=\"2\" style=\"border-bottom: 1px solid black\"></td></tr><tr><td style=\"text-align:left\">Intercept</td><td>311.228<sup>***</sup></td></tr><tr><td style=\"text-align:left\"></td><td>(15.444)</td></tr><tr><td style=\"text-align:left\">NumberofLocations</td><td>-1.459<sup>***</sup></td></tr><tr><td style=\"text-align:left\"></td><td>(0.154)</td></tr><tr><td style=\"text-align:left\">Weekend[T.True]</td><td>1.600<sup>***</sup></td></tr><tr><td style=\"text-align:left\"></td><td>(0.487)</td></tr><tr><td style=\"text-align:left\">Year</td><td>-0.108<sup>***</sup></td></tr><tr><td style=\"text-align:left\"></td><td>(0.008)</td></tr><tr><td style=\"text-align:left\">np.multiply(NumberofLocations, Weekend)</td><td>-0.004<sup></sup></td></tr><tr><td style=\"text-align:left\"></td><td>(0.008)</td></tr><tr><td style=\"text-align:left\">np.multiply(NumberofLocations, Year)</td><td>0.001<sup>***</sup></td></tr><tr><td style=\"text-align:left\"></td><td>(0.000)</td></tr><td colspan=\"2\" style=\"border-bottom: 1px solid black\"></td></tr><tr><td style=\"text-align: left\">Observations</td><td>27,178</td></tr><tr><td style=\"text-align: left\">R<sup>2</sup></td><td>0.072</td></tr><tr><td style=\"text-align: left\">Adjusted R<sup>2</sup></td><td>0.072</td></tr><tr><td style=\"text-align: left\">Residual Std. Error</td><td>6.029 (df=27172)</td></tr><tr><td style=\"text-align: left\">F Statistic</td><td>420.549<sup>***</sup> (df=5; 27172)</td></tr><tr><td colspan=\"2\" style=\"border-bottom: 1px solid black\"></td></tr><tr><td style=\"text-align: left\">Note:</td>\n",
       " <td colspan=\"1\" style=\"text-align: right\">\n",
       "  <sup>*</sup>p&lt;0.1;\n",
       "  <sup>**</sup>p&lt;0.05;\n",
       "  <sup>***</sup>p&lt;0.01\n",
       " </td></tr></table>"
      ],
      "text/plain": [
       "<stargazer.stargazer.Stargazer at 0x7fd9391f82e0>"
      ]
     },
     "execution_count": 15,
     "metadata": {},
     "output_type": "execute_result"
    }
   ],
   "source": [
    "Stargazer([m4])"
   ]
  },
  {
   "cell_type": "markdown",
   "id": "d9d39dd5-711b-4cc6-add1-04af57b1c26c",
   "metadata": {},
   "source": [
    "## Polynomials and interaction effects"
   ]
  },
  {
   "cell_type": "code",
   "execution_count": 16,
   "id": "e2d521aa-25f7-4da9-a792-acb6bd7d10ac",
   "metadata": {},
   "outputs": [],
   "source": [
    "# Create a model with independent variables NumberofLocations, NumberofLocations**2, and Year\n",
    "## Use I() to insert calculations like squaring the NumberofLocations\n",
    "m5 = sm.ols(formula='inspection_score ~ NumberofLocations + I(NumberofLocations**2) + Year', data=df_res).fit()"
   ]
  },
  {
   "cell_type": "code",
   "execution_count": 17,
   "id": "47b9b97d-bef4-4bf6-b826-a0438d9f08eb",
   "metadata": {},
   "outputs": [
    {
     "data": {
      "text/html": [
       "<table style=\"text-align:center\"><tr><td colspan=\"2\" style=\"border-bottom: 1px solid black\"></td></tr><tr><td style=\"text-align:left\"></td><td colspan=\"1\"><em>Dependent variable:inspection_score</em></td></tr><tr><td style=\"text-align:left\"></td><tr><td style=\"text-align:left\"></td><td>(1)</td></tr><tr><td colspan=\"2\" style=\"border-bottom: 1px solid black\"></td></tr><tr><td style=\"text-align:left\">I(NumberofLocations ** 2)</td><td>0.000<sup>***</sup></td></tr><tr><td style=\"text-align:left\"></td><td>(0.000)</td></tr><tr><td style=\"text-align:left\">Intercept</td><td>362.834<sup>***</sup></td></tr><tr><td style=\"text-align:left\"></td><td>(11.601)</td></tr><tr><td style=\"text-align:left\">NumberofLocations</td><td>-0.084<sup>***</sup></td></tr><tr><td style=\"text-align:left\"></td><td>(0.001)</td></tr><tr><td style=\"text-align:left\">Year</td><td>-0.132<sup>***</sup></td></tr><tr><td style=\"text-align:left\"></td><td>(0.006)</td></tr><td colspan=\"2\" style=\"border-bottom: 1px solid black\"></td></tr><tr><td style=\"text-align: left\">Observations</td><td>27,178</td></tr><tr><td style=\"text-align: left\">R<sup>2</sup></td><td>0.210</td></tr><tr><td style=\"text-align: left\">Adjusted R<sup>2</sup></td><td>0.210</td></tr><tr><td style=\"text-align: left\">Residual Std. Error</td><td>5.563 (df=27174)</td></tr><tr><td style=\"text-align: left\">F Statistic</td><td>2402.353<sup>***</sup> (df=3; 27174)</td></tr><tr><td colspan=\"2\" style=\"border-bottom: 1px solid black\"></td></tr><tr><td style=\"text-align: left\">Note:</td>\n",
       " <td colspan=\"1\" style=\"text-align: right\">\n",
       "  <sup>*</sup>p&lt;0.1;\n",
       "  <sup>**</sup>p&lt;0.05;\n",
       "  <sup>***</sup>p&lt;0.01\n",
       " </td></tr></table>"
      ],
      "text/plain": [
       "<stargazer.stargazer.Stargazer at 0x7fd939218eb0>"
      ]
     },
     "execution_count": 17,
     "metadata": {},
     "output_type": "execute_result"
    }
   ],
   "source": [
    "Stargazer([m5])"
   ]
  },
  {
   "cell_type": "code",
   "execution_count": 18,
   "id": "3e5308e9-ec3a-4195-b9dd-d8ae585d934e",
   "metadata": {},
   "outputs": [
    {
     "data": {
      "text/html": [
       "<table class=\"simpletable\">\n",
       "<caption>OLS Regression Results</caption>\n",
       "<tr>\n",
       "  <th>Dep. Variable:</th>    <td>inspection_score</td> <th>  R-squared:         </th> <td>   0.210</td> \n",
       "</tr>\n",
       "<tr>\n",
       "  <th>Model:</th>                   <td>OLS</td>       <th>  Adj. R-squared:    </th> <td>   0.210</td> \n",
       "</tr>\n",
       "<tr>\n",
       "  <th>Method:</th>             <td>Least Squares</td>  <th>  F-statistic:       </th> <td>   2402.</td> \n",
       "</tr>\n",
       "<tr>\n",
       "  <th>Date:</th>             <td>Sun, 22 Jan 2023</td> <th>  Prob (F-statistic):</th>  <td>  0.00</td>  \n",
       "</tr>\n",
       "<tr>\n",
       "  <th>Time:</th>                 <td>10:55:49</td>     <th>  Log-Likelihood:    </th> <td> -85203.</td> \n",
       "</tr>\n",
       "<tr>\n",
       "  <th>No. Observations:</th>      <td> 27178</td>      <th>  AIC:               </th> <td>1.704e+05</td>\n",
       "</tr>\n",
       "<tr>\n",
       "  <th>Df Residuals:</th>          <td> 27174</td>      <th>  BIC:               </th> <td>1.704e+05</td>\n",
       "</tr>\n",
       "<tr>\n",
       "  <th>Df Model:</th>              <td>     3</td>      <th>                     </th>     <td> </td>    \n",
       "</tr>\n",
       "<tr>\n",
       "  <th>Covariance Type:</th>      <td>nonrobust</td>    <th>                     </th>     <td> </td>    \n",
       "</tr>\n",
       "</table>\n",
       "<table class=\"simpletable\">\n",
       "<tr>\n",
       "              <td></td>                 <th>coef</th>     <th>std err</th>      <th>t</th>      <th>P>|t|</th>  <th>[0.025</th>    <th>0.975]</th>  \n",
       "</tr>\n",
       "<tr>\n",
       "  <th>Intercept</th>                 <td>  362.8342</td> <td>   11.601</td> <td>   31.276</td> <td> 0.000</td> <td>  340.096</td> <td>  385.573</td>\n",
       "</tr>\n",
       "<tr>\n",
       "  <th>NumberofLocations</th>         <td>   -0.0844</td> <td>    0.001</td> <td>  -82.888</td> <td> 0.000</td> <td>   -0.086</td> <td>   -0.082</td>\n",
       "</tr>\n",
       "<tr>\n",
       "  <th>I(NumberofLocations ** 2)</th> <td>    0.0001</td> <td> 1.77e-06</td> <td>   69.684</td> <td> 0.000</td> <td>    0.000</td> <td>    0.000</td>\n",
       "</tr>\n",
       "<tr>\n",
       "  <th>Year</th>                      <td>   -0.1319</td> <td>    0.006</td> <td>  -22.870</td> <td> 0.000</td> <td>   -0.143</td> <td>   -0.121</td>\n",
       "</tr>\n",
       "</table>\n",
       "<table class=\"simpletable\">\n",
       "<tr>\n",
       "  <th>Omnibus:</th>       <td>2526.441</td> <th>  Durbin-Watson:     </th> <td>   1.943</td>\n",
       "</tr>\n",
       "<tr>\n",
       "  <th>Prob(Omnibus):</th>  <td> 0.000</td>  <th>  Jarque-Bera (JB):  </th> <td>3411.908</td>\n",
       "</tr>\n",
       "<tr>\n",
       "  <th>Skew:</th>           <td>-0.775</td>  <th>  Prob(JB):          </th> <td>    0.00</td>\n",
       "</tr>\n",
       "<tr>\n",
       "  <th>Kurtosis:</th>       <td> 3.782</td>  <th>  Cond. No.          </th> <td>1.70e+07</td>\n",
       "</tr>\n",
       "</table><br/><br/>Notes:<br/>[1] Standard Errors assume that the covariance matrix of the errors is correctly specified.<br/>[2] The condition number is large, 1.7e+07. This might indicate that there are<br/>strong multicollinearity or other numerical problems."
      ],
      "text/plain": [
       "<class 'statsmodels.iolib.summary.Summary'>\n",
       "\"\"\"\n",
       "                            OLS Regression Results                            \n",
       "==============================================================================\n",
       "Dep. Variable:       inspection_score   R-squared:                       0.210\n",
       "Model:                            OLS   Adj. R-squared:                  0.210\n",
       "Method:                 Least Squares   F-statistic:                     2402.\n",
       "Date:                Sun, 22 Jan 2023   Prob (F-statistic):               0.00\n",
       "Time:                        10:55:49   Log-Likelihood:                -85203.\n",
       "No. Observations:               27178   AIC:                         1.704e+05\n",
       "Df Residuals:                   27174   BIC:                         1.704e+05\n",
       "Df Model:                           3                                         \n",
       "Covariance Type:            nonrobust                                         \n",
       "=============================================================================================\n",
       "                                coef    std err          t      P>|t|      [0.025      0.975]\n",
       "---------------------------------------------------------------------------------------------\n",
       "Intercept                   362.8342     11.601     31.276      0.000     340.096     385.573\n",
       "NumberofLocations            -0.0844      0.001    -82.888      0.000      -0.086      -0.082\n",
       "I(NumberofLocations ** 2)     0.0001   1.77e-06     69.684      0.000       0.000       0.000\n",
       "Year                         -0.1319      0.006    -22.870      0.000      -0.143      -0.121\n",
       "==============================================================================\n",
       "Omnibus:                     2526.441   Durbin-Watson:                   1.943\n",
       "Prob(Omnibus):                  0.000   Jarque-Bera (JB):             3411.908\n",
       "Skew:                          -0.775   Prob(JB):                         0.00\n",
       "Kurtosis:                       3.782   Cond. No.                     1.70e+07\n",
       "==============================================================================\n",
       "\n",
       "Notes:\n",
       "[1] Standard Errors assume that the covariance matrix of the errors is correctly specified.\n",
       "[2] The condition number is large, 1.7e+07. This might indicate that there are\n",
       "strong multicollinearity or other numerical problems.\n",
       "\"\"\""
      ]
     },
     "execution_count": 18,
     "metadata": {},
     "output_type": "execute_result"
    }
   ],
   "source": [
    "m5.summary()"
   ]
  },
  {
   "cell_type": "code",
   "execution_count": 19,
   "id": "ee6d5dde-7059-4bd2-99a2-a592f7db52f5",
   "metadata": {},
   "outputs": [
    {
     "data": {
      "text/plain": [
       "<class 'statsmodels.stats.contrast.ContrastResults'>\n",
       "                             Test for Constraints                             \n",
       "==============================================================================\n",
       "                 coef    std err          t      P>|t|      [0.025      0.975]\n",
       "------------------------------------------------------------------------------\n",
       "c0            -0.0597      0.001    -84.505      0.000      -0.061      -0.058\n",
       "=============================================================================="
      ]
     },
     "execution_count": 19,
     "metadata": {},
     "output_type": "execute_result"
    }
   ],
   "source": [
    "# Use the t_test to test the linear combinations of the coefficients\n",
    "m5.t_test('NumberofLocations + 2*I(NumberofLocations ** 2)*100 = 0')"
   ]
  },
  {
   "cell_type": "code",
   "execution_count": 20,
   "id": "a40e7f35-754f-419e-a710-4b438f41f06f",
   "metadata": {},
   "outputs": [],
   "source": [
    "# Create a model with interaction between NumberofLocations and Weekend\n",
    "m6 = sm.ols(formula='inspection_score ~ NumberofLocations*Weekend + Year', data=df_res).fit()"
   ]
  },
  {
   "cell_type": "code",
   "execution_count": 21,
   "id": "c074bbe2-8879-4c15-8c3b-cc15a562898a",
   "metadata": {},
   "outputs": [
    {
     "data": {
      "text/html": [
       "<table class=\"simpletable\">\n",
       "<caption>OLS Regression Results</caption>\n",
       "<tr>\n",
       "  <th>Dep. Variable:</th>    <td>inspection_score</td> <th>  R-squared:         </th> <td>   0.069</td> \n",
       "</tr>\n",
       "<tr>\n",
       "  <th>Model:</th>                   <td>OLS</td>       <th>  Adj. R-squared:    </th> <td>   0.069</td> \n",
       "</tr>\n",
       "<tr>\n",
       "  <th>Method:</th>             <td>Least Squares</td>  <th>  F-statistic:       </th> <td>   502.3</td> \n",
       "</tr>\n",
       "<tr>\n",
       "  <th>Date:</th>             <td>Sun, 22 Jan 2023</td> <th>  Prob (F-statistic):</th>  <td>  0.00</td>  \n",
       "</tr>\n",
       "<tr>\n",
       "  <th>Time:</th>                 <td>10:55:49</td>     <th>  Log-Likelihood:    </th> <td> -87430.</td> \n",
       "</tr>\n",
       "<tr>\n",
       "  <th>No. Observations:</th>      <td> 27178</td>      <th>  AIC:               </th> <td>1.749e+05</td>\n",
       "</tr>\n",
       "<tr>\n",
       "  <th>Df Residuals:</th>          <td> 27173</td>      <th>  BIC:               </th> <td>1.749e+05</td>\n",
       "</tr>\n",
       "<tr>\n",
       "  <th>Df Model:</th>              <td>     4</td>      <th>                     </th>     <td> </td>    \n",
       "</tr>\n",
       "<tr>\n",
       "  <th>Covariance Type:</th>      <td>nonrobust</td>    <th>                     </th>     <td> </td>    \n",
       "</tr>\n",
       "</table>\n",
       "<table class=\"simpletable\">\n",
       "<tr>\n",
       "                  <td></td>                     <th>coef</th>     <th>std err</th>      <th>t</th>      <th>P>|t|</th>  <th>[0.025</th>    <th>0.975]</th>  \n",
       "</tr>\n",
       "<tr>\n",
       "  <th>Intercept</th>                         <td>  225.1260</td> <td>   12.415</td> <td>   18.134</td> <td> 0.000</td> <td>  200.793</td> <td>  249.460</td>\n",
       "</tr>\n",
       "<tr>\n",
       "  <th>Weekend[T.True]</th>                   <td>    1.7592</td> <td>    0.488</td> <td>    3.606</td> <td> 0.000</td> <td>    0.803</td> <td>    2.715</td>\n",
       "</tr>\n",
       "<tr>\n",
       "  <th>NumberofLocations</th>                 <td>   -0.0191</td> <td>    0.000</td> <td>  -43.759</td> <td> 0.000</td> <td>   -0.020</td> <td>   -0.018</td>\n",
       "</tr>\n",
       "<tr>\n",
       "  <th>NumberofLocations:Weekend[T.True]</th> <td>   -0.0098</td> <td>    0.008</td> <td>   -1.307</td> <td> 0.191</td> <td>   -0.025</td> <td>    0.005</td>\n",
       "</tr>\n",
       "<tr>\n",
       "  <th>Year</th>                              <td>   -0.0648</td> <td>    0.006</td> <td>  -10.494</td> <td> 0.000</td> <td>   -0.077</td> <td>   -0.053</td>\n",
       "</tr>\n",
       "</table>\n",
       "<table class=\"simpletable\">\n",
       "<tr>\n",
       "  <th>Omnibus:</th>       <td>2829.404</td> <th>  Durbin-Watson:     </th> <td>   1.931</td>\n",
       "</tr>\n",
       "<tr>\n",
       "  <th>Prob(Omnibus):</th>  <td> 0.000</td>  <th>  Jarque-Bera (JB):  </th> <td>3861.648</td>\n",
       "</tr>\n",
       "<tr>\n",
       "  <th>Skew:</th>           <td>-0.849</td>  <th>  Prob(JB):          </th> <td>    0.00</td>\n",
       "</tr>\n",
       "<tr>\n",
       "  <th>Kurtosis:</th>       <td> 3.725</td>  <th>  Cond. No.          </th> <td>6.82e+05</td>\n",
       "</tr>\n",
       "</table><br/><br/>Notes:<br/>[1] Standard Errors assume that the covariance matrix of the errors is correctly specified.<br/>[2] The condition number is large, 6.82e+05. This might indicate that there are<br/>strong multicollinearity or other numerical problems."
      ],
      "text/plain": [
       "<class 'statsmodels.iolib.summary.Summary'>\n",
       "\"\"\"\n",
       "                            OLS Regression Results                            \n",
       "==============================================================================\n",
       "Dep. Variable:       inspection_score   R-squared:                       0.069\n",
       "Model:                            OLS   Adj. R-squared:                  0.069\n",
       "Method:                 Least Squares   F-statistic:                     502.3\n",
       "Date:                Sun, 22 Jan 2023   Prob (F-statistic):               0.00\n",
       "Time:                        10:55:49   Log-Likelihood:                -87430.\n",
       "No. Observations:               27178   AIC:                         1.749e+05\n",
       "Df Residuals:                   27173   BIC:                         1.749e+05\n",
       "Df Model:                           4                                         \n",
       "Covariance Type:            nonrobust                                         \n",
       "=====================================================================================================\n",
       "                                        coef    std err          t      P>|t|      [0.025      0.975]\n",
       "-----------------------------------------------------------------------------------------------------\n",
       "Intercept                           225.1260     12.415     18.134      0.000     200.793     249.460\n",
       "Weekend[T.True]                       1.7592      0.488      3.606      0.000       0.803       2.715\n",
       "NumberofLocations                    -0.0191      0.000    -43.759      0.000      -0.020      -0.018\n",
       "NumberofLocations:Weekend[T.True]    -0.0098      0.008     -1.307      0.191      -0.025       0.005\n",
       "Year                                 -0.0648      0.006    -10.494      0.000      -0.077      -0.053\n",
       "==============================================================================\n",
       "Omnibus:                     2829.404   Durbin-Watson:                   1.931\n",
       "Prob(Omnibus):                  0.000   Jarque-Bera (JB):             3861.648\n",
       "Skew:                          -0.849   Prob(JB):                         0.00\n",
       "Kurtosis:                       3.725   Cond. No.                     6.82e+05\n",
       "==============================================================================\n",
       "\n",
       "Notes:\n",
       "[1] Standard Errors assume that the covariance matrix of the errors is correctly specified.\n",
       "[2] The condition number is large, 6.82e+05. This might indicate that there are\n",
       "strong multicollinearity or other numerical problems.\n",
       "\"\"\""
      ]
     },
     "execution_count": 21,
     "metadata": {},
     "output_type": "execute_result"
    }
   ],
   "source": [
    "m6.summary()"
   ]
  },
  {
   "cell_type": "code",
   "execution_count": 22,
   "id": "ce661fb9-8728-4756-98ad-c6ddf55f79b2",
   "metadata": {},
   "outputs": [
    {
     "data": {
      "text/plain": [
       "<class 'statsmodels.stats.contrast.ContrastResults'>\n",
       "                             Test for Constraints                             \n",
       "==============================================================================\n",
       "                 coef    std err          t      P>|t|      [0.025      0.975]\n",
       "------------------------------------------------------------------------------\n",
       "c0            -0.0289      0.008     -3.851      0.000      -0.044      -0.014\n",
       "=============================================================================="
      ]
     },
     "execution_count": 22,
     "metadata": {},
     "output_type": "execute_result"
    }
   ],
   "source": [
    "# Use the t_test to test linear combinations of coefficients\n",
    "m6.t_test('NumberofLocations + NumberofLocations:Weekend[T.True] = 0')"
   ]
  },
  {
   "cell_type": "code",
   "execution_count": null,
   "id": "029bd452-9949-4e6a-bfc2-363437e5fbe3",
   "metadata": {},
   "outputs": [],
   "source": []
  },
  {
   "cell_type": "markdown",
   "id": "9214df29-482b-44bb-930a-37de38e19954",
   "metadata": {},
   "source": [
    "## Mortgage dataset"
   ]
  },
  {
   "cell_type": "code",
   "execution_count": null,
   "id": "6694c66b-b731-493f-8ee4-f515e79064ac",
   "metadata": {},
   "outputs": [],
   "source": [
    "df_mort = cdata.mortgages.load_pandas().data\n",
    "df_mort.head()"
   ]
  },
  {
   "cell_type": "code",
   "execution_count": null,
   "id": "d4c61a33-d78a-4e3f-a19c-3309e7c54e72",
   "metadata": {},
   "outputs": [],
   "source": []
  }
 ],
 "metadata": {
  "kernelspec": {
   "display_name": "Python 3 (ipykernel)",
   "language": "python",
   "name": "python3"
  },
  "language_info": {
   "codemirror_mode": {
    "name": "ipython",
    "version": 3
   },
   "file_extension": ".py",
   "mimetype": "text/x-python",
   "name": "python",
   "nbconvert_exporter": "python",
   "pygments_lexer": "ipython3",
   "version": "3.9.13"
  },
  "vscode": {
   "interpreter": {
    "hash": "31f2aee4e71d21fbe5cf8b01ff0e069b9275f58929596ceb00d14d90e3e16cd6"
   }
  }
 },
 "nbformat": 4,
 "nbformat_minor": 5
}
