{
 "cells": [
  {
   "cell_type": "markdown",
   "id": "213d4f66-85c1-488c-b3d4-1f6c83264d1d",
   "metadata": {},
   "source": [
    "# include-2-shared-functions\n",
    "\n",
    "Set up notebook display parameters, project packages, and functions shared by all notebooks in this project."
   ]
  },
  {
   "cell_type": "code",
   "execution_count": 1,
   "id": "280d642e-1c8b-46ce-a60e-d1fb1561a525",
   "metadata": {},
   "outputs": [],
   "source": [
    "%run include-1-file-paths.ipynb"
   ]
  },
  {
   "cell_type": "code",
   "execution_count": 2,
   "id": "81b51400-c889-4f34-bc1e-a8401c2e1c6a",
   "metadata": {},
   "outputs": [
    {
     "name": "stdout",
     "output_type": "stream",
     "text": [
      "['Solarize_Light2', '_classic_test_patch', '_mpl-gallery', '_mpl-gallery-nogrid', 'bmh', 'classic', 'dark_background', 'fast', 'fivethirtyeight', 'ggplot', 'grayscale', 'seaborn', 'seaborn-bright', 'seaborn-colorblind', 'seaborn-dark', 'seaborn-dark-palette', 'seaborn-darkgrid', 'seaborn-deep', 'seaborn-muted', 'seaborn-notebook', 'seaborn-paper', 'seaborn-pastel', 'seaborn-poster', 'seaborn-talk', 'seaborn-ticks', 'seaborn-white', 'seaborn-whitegrid', 'tableau-colorblind10']\n"
     ]
    }
   ],
   "source": [
    "# Include the setup functions\n",
    "# See https://stackoverflow.com/questions/14409167/\n",
    "## How to pass a variable to a magic function\n",
    "include_setup = os.path.abspath(os.path.join(shared_dir_path, 'Include-Setup-Functions.ipynb'))\n",
    "%run $include_setup"
   ]
  },
  {
   "cell_type": "code",
   "execution_count": null,
   "id": "4a1fb7e5-1941-45bb-b405-973ebb11712e",
   "metadata": {},
   "outputs": [],
   "source": [
    "# # Include the utility functions\n",
    "# # See https://stackoverflow.com/questions/14409167/\n",
    "# ## How to pass a variable to a magic function\n",
    "# include_utility = os.path.abspath(os.path.join(shared_dir_path, 'Include-Utility-Functions.ipynb'))\n",
    "# %run $include_utility"
   ]
  },
  {
   "cell_type": "code",
   "execution_count": null,
   "id": "00a81f03-23ea-496e-b026-47ad03d6b429",
   "metadata": {},
   "outputs": [],
   "source": [
    "# # Include the data viz functions\n",
    "# # See https://stackoverflow.com/questions/14409167/\n",
    "# ## How to pass a variable to a magic function\n",
    "# include_viz = os.path.abspath(os.path.join(shared_dir_path, 'Include-Viz-Functions.ipynb'))\n",
    "# %run $include_viz"
   ]
  },
  {
   "cell_type": "code",
   "execution_count": null,
   "id": "16e33eb4-bf1e-4747-974b-48b67035f07e",
   "metadata": {},
   "outputs": [],
   "source": [
    "# # Include the NLP functions\n",
    "# # See https://stackoverflow.com/questions/14409167/\n",
    "# ## How to pass a variable to a magic function\n",
    "# include_nlp = os.path.abspath(os.path.join(shared_dir_path, 'Include-NLP-Functions.ipynb'))\n",
    "# %run $include_nlp"
   ]
  },
  {
   "cell_type": "markdown",
   "id": "f0fad27c-50ec-43fb-be88-f8a2dee6ac32",
   "metadata": {},
   "source": [
    "## Packages for this project"
   ]
  },
  {
   "cell_type": "code",
   "execution_count": 5,
   "id": "1fdee708-a061-4f0e-8b8f-1ca6e71bef97",
   "metadata": {},
   "outputs": [],
   "source": [
    "# For quant models\n",
    "import statsmodels.formula.api as sm\n",
    "\n",
    "# For well-formatted regression table outputs\n",
    "from stargazer.stargazer import Stargazer\n",
    "\n",
    "# Curated datasets from Nick Huntington-Klein\n",
    "import causaldata as cdata"
   ]
  },
  {
   "cell_type": "code",
   "execution_count": null,
   "id": "2f1c2598-d54a-4ab3-be7b-a6b9bdc5ea6e",
   "metadata": {},
   "outputs": [],
   "source": []
  },
  {
   "cell_type": "code",
   "execution_count": null,
   "id": "8d031c18-c2b1-4789-b58d-8fd0e80aa785",
   "metadata": {},
   "outputs": [],
   "source": []
  }
 ],
 "metadata": {
  "kernelspec": {
   "display_name": "Python 3 (ipykernel)",
   "language": "python",
   "name": "python3"
  },
  "language_info": {
   "codemirror_mode": {
    "name": "ipython",
    "version": 3
   },
   "file_extension": ".py",
   "mimetype": "text/x-python",
   "name": "python",
   "nbconvert_exporter": "python",
   "pygments_lexer": "ipython3",
   "version": "3.9.13"
  }
 },
 "nbformat": 4,
 "nbformat_minor": 5
}
